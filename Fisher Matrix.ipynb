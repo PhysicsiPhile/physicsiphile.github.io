{
 "cells": [
  {
   "cell_type": "markdown",
   "id": "19100a32-8c1a-48e9-bfdb-7b90f852b2fa",
   "metadata": {},
   "source": [
    "Let us start with a model which has two unknown parameter $H_0$ and $A$. The distance modulus $\\mu$ is defined using luminosity distance in the following manner.\n",
    "$$D_L(z,H_0,A)=\\frac{1+z}{H_0}+A$$\n",
    "$$\\boxed{\\mu(z,H_0,A)=5\\log_{10}(D_L(z,H_0,A))+25}$$"
   ]
  },
  {
   "cell_type": "code",
   "execution_count": 14,
   "id": "1b704633-75c0-44d5-bff2-1723554bcd84",
   "metadata": {},
   "outputs": [],
   "source": [
    "import numpy as np\n",
    "import matplotlib.pyplot as plt\n",
    "# 1. Define the model\n",
    "def mu_model(z, H0, A):\n",
    "    \"\"\"\n",
    "    A simplified linear model for luminosity distance.\n",
    "    Not cosmologically accurate, but good for demonstration.\n",
    "    \n",
    "    DL = (1+z)/H0 + A\n",
    "    mu = 5 * log10(DL) + 25\n",
    "    \"\"\"\n",
    "    DL = (1 + z) / H0 + A\n",
    "    return 5 * np.log10(DL) + 25"
   ]
  },
  {
   "cell_type": "markdown",
   "id": "71515909-5b9b-471a-bd81-185b7bcb1763",
   "metadata": {},
   "source": [
    "Define the derivatives\n",
    "$$\\frac{\\partial \\mu}{\\partial H_0}=5\\frac{1}{D_L\\ln(10)}\\frac{1+z}{-H_0^2}$$\n",
    "$$\\frac{\\partial \\mu}{\\partial A}=5\\frac{1}{D_L\\ln(10)}$$"
   ]
  },
  {
   "cell_type": "code",
   "execution_count": 2,
   "id": "517d5715-5627-4633-a060-39931c6cc4cb",
   "metadata": {},
   "outputs": [],
   "source": [
    "def dmu_dH0(z, H0, A):\n",
    "    \"\"\"Partial derivative of mu with respect to H0.\"\"\"\n",
    "    DL = (1 + z) / H0 + A\n",
    "    return 5 / (DL * np.log(10)) * (-(1 + z) / H0**2)\n",
    "\n",
    "def dmu_dA(z, H0, A):\n",
    "    \"\"\"Partial derivative of mu with respect to A.\"\"\"\n",
    "    DL = (1 + z) / H0 + A\n",
    "    return 5 / (DL * np.log(10)) * 1"
   ]
  },
  {
   "cell_type": "markdown",
   "id": "ecfe7e2f-47c0-4436-b892-a4824494833f",
   "metadata": {},
   "source": [
    "Create mock data (in a real scenario, this would be observational data)"
   ]
  },
  {
   "cell_type": "code",
   "execution_count": 9,
   "id": "7ab9e41e-cab7-44a2-8a3b-f97bddab5406",
   "metadata": {},
   "outputs": [
    {
     "name": "stdout",
     "output_type": "stream",
     "text": [
      "z= [0.1        0.11836735 0.13673469 0.15510204 0.17346939 0.19183673\n",
      " 0.21020408 0.22857143 0.24693878 0.26530612 0.28367347 0.30204082\n",
      " 0.32040816 0.33877551 0.35714286 0.3755102  0.39387755 0.4122449\n",
      " 0.43061224 0.44897959 0.46734694 0.48571429 0.50408163 0.52244898\n",
      " 0.54081633 0.55918367 0.57755102 0.59591837 0.61428571 0.63265306\n",
      " 0.65102041 0.66938776 0.6877551  0.70612245 0.7244898  0.74285714\n",
      " 0.76122449 0.77959184 0.79795918 0.81632653 0.83469388 0.85306122\n",
      " 0.87142857 0.88979592 0.90816327 0.92653061 0.94489796 0.96326531\n",
      " 0.98163265 1.        ]\n"
     ]
    }
   ],
   "source": [
    "z_data = np.linspace(0.1, 1.0, 50) #creates an array of 50 evenly spaced numbers between 0.1 and 1.0\n",
    "sigma = 0.05  # A constant uncertainty for all data points\n",
    "\n",
    "# 4. Set the fiducial (best-fit) parameters\n",
    "H0_fid = 70.0\n",
    "A_fid = 0.5\n",
    "fiducial_params = [H0_fid, A_fid]\n",
    "\n",
    "print('z=',z_data)"
   ]
  },
  {
   "cell_type": "markdown",
   "id": "2750eed5-d378-4364-b8d1-204812fb93ce",
   "metadata": {},
   "source": [
    "Build the Fisher matrix\n",
    " The Fisher matrix F is defined as:\n",
    "$$F_{ij} = \\sum_n \\frac{1}{\\sigma_n^2}\\frac{\\partial\\mu(z_n,\\theta)}{\\partial\\theta_i} \\frac{\\partial\\mu(z_n,\\theta)}{\\partial\\theta_j}$$"
   ]
  },
  {
   "cell_type": "code",
   "execution_count": 12,
   "id": "8a71c8e3-26f2-44e4-ae5c-c663df85cee6",
   "metadata": {},
   "outputs": [],
   "source": [
    "fisher_matrix = np.zeros((2, 2))\n",
    "\n",
    "for z_i in z_data:\n",
    "    # Calculate the derivatives at the fiducial parameters\n",
    "    deriv_H0 = dmu_dH0(z_i, H0_fid, A_fid)\n",
    "    deriv_A = dmu_dA(z_i, H0_fid, A_fid)\n",
    "    \n",
    "    # Fill the Fisher matrix using the derivatives\n",
    "    derivatives = np.array([deriv_H0, deriv_A])\n",
    "    outer_product = np.outer(derivatives, derivatives)\n",
    "    fisher_matrix += (1 / sigma**2) * outer_product\n",
    "\n",
    "# 6. Calculate the covariance matrix and parameter uncertainties\n",
    "covariance_matrix = np.linalg.inv(fisher_matrix)\n",
    "param_uncertainties = np.sqrt(np.diag(covariance_matrix))"
   ]
  },
  {
   "cell_type": "markdown",
   "id": "b95e300e-1387-4b3e-9bbb-67b0ba418362",
   "metadata": {},
   "source": [
    "Print the results"
   ]
  },
  {
   "cell_type": "code",
   "execution_count": 5,
   "id": "ba063ab5-7d01-4ef8-bdaf-959782386575",
   "metadata": {},
   "outputs": [
    {
     "name": "stdout",
     "output_type": "stream",
     "text": [
      "Fiducial parameters:\n",
      "H0: 70.0\n",
      "A: 0.5\n",
      "\n",
      "Fisher Matrix:\n",
      "[[ 3.54585338e-02 -1.09165541e+02]\n",
      " [-1.09165541e+02  3.45962055e+05]] \n",
      "\n",
      "Covariance Matrix (Inverse of Fisher Matrix):\n",
      "[[9.87921496e+02 3.11730675e-01]\n",
      " [3.11730675e-01 1.01254595e-04]] \n",
      "\n",
      "1-sigma uncertainties from Fisher matrix:\n",
      "ΔH0 = 31.4312\n",
      "ΔA = 0.0101\n"
     ]
    }
   ],
   "source": [
    "print(\"Fiducial parameters:\")\n",
    "print(f\"H0: {H0_fid}\")\n",
    "print(f\"A: {A_fid}\\n\")\n",
    "\n",
    "print(\"Fisher Matrix:\")\n",
    "print(fisher_matrix, '\\n')\n",
    "\n",
    "print(\"Covariance Matrix (Inverse of Fisher Matrix):\")\n",
    "print(covariance_matrix, '\\n')\n",
    "\n",
    "print(\"1-sigma uncertainties from Fisher matrix:\")\n",
    "print(f\"ΔH0 = {param_uncertainties[0]:.4f}\")\n",
    "print(f\"ΔA = {param_uncertainties[1]:.4f}\")"
   ]
  },
  {
   "cell_type": "markdown",
   "id": "90c2f7b8-3b7b-450e-8661-a6ec42fd80f7",
   "metadata": {},
   "source": [
    "In essence, our result is a forecast that with the specified data and model, we would be able to measure the Hubble constant to be your fiducial value with an uncertainty of 31. The full result would be expressed as $H_0=70±31$ (assuming a fiducial value of $70$). The large uncertainty of $31$ suggests that our planned experiment is not very sensitive to this parameter. Therefore, it is better to measure the value of $H_0$ and $A$ by using an instrument that measures observables other than $\\mu$ or we could make our instrument more sensitive by decreasing the value of $\\sigma$."
   ]
  },
  {
   "cell_type": "code",
   "execution_count": 19,
   "id": "dc55c55b-6109-4811-897d-ceafa3a6821a",
   "metadata": {},
   "outputs": [
    {
     "data": {
      "image/png": "[encoded data removed]",
      "text/plain": [
       "<Figure size 800x600 with 1 Axes>"
      ]
     },
     "metadata": {},
     "output_type": "display_data"
    },
    {
     "name": "stdout",
     "output_type": "stream",
     "text": [
      "----------------------------------------------------------------\n",
      "Results Summary:\n",
      "For sigma = 0.0500, ΔH0 = 31.4312, ΔA = 0.0101\n",
      "For sigma = 0.0010, ΔH0 = 0.6286, ΔA = 0.0002\n",
      "----------------------------------------------------------------\n"
     ]
    }
   ],
   "source": [
    "def analyze_uncertainty_vs_sigma(sigmas):\n",
    "    \"\"\"\n",
    "    Calculates and plots parameter uncertainties for a range of sigma values.\n",
    "    \n",
    "    Args:\n",
    "        sigmas (list or np.array): A list of different sigma values to test.\n",
    "    \n",
    "    Returns:\n",
    "        tuple: A tuple containing lists of calculated H0 and A uncertainties.\n",
    "    \"\"\"\n",
    "\n",
    "    z_data = np.linspace(0.1, 1.0, 50)\n",
    "    H0_fid = 70.0\n",
    "    A_fid = 0.5\n",
    "    \n",
    "    uncertainties_H0 = []\n",
    "    uncertainties_A = []\n",
    "\n",
    "    for sigma in sigmas:\n",
    "        # Build the Fisher matrix for the current sigma\n",
    "        fisher_matrix = np.zeros((2, 2))\n",
    "        for z_i in z_data:\n",
    "            deriv_H0 = dmu_dH0(z_i, H0_fid, A_fid)\n",
    "            deriv_A = dmu_dA(z_i, H0_fid, A_fid)\n",
    "            derivatives = np.array([deriv_H0, deriv_A])\n",
    "            outer_product = np.outer(derivatives, derivatives)\n",
    "            fisher_matrix += (1 / sigma**2) * outer_product\n",
    "\n",
    "        # Calculate the covariance and uncertainties\n",
    "        covariance_matrix = np.linalg.inv(fisher_matrix)\n",
    "        param_uncertainties = np.sqrt(np.diag(covariance_matrix))\n",
    "        \n",
    "        uncertainties_H0.append(param_uncertainties[0])\n",
    "        uncertainties_A.append(param_uncertainties[1])\n",
    "\n",
    "    # Plot the results\n",
    "    plt.figure(figsize=(8, 6))\n",
    "    plt.plot(sigmas, uncertainties_H0, 'o-', label=r'$\\Delta H_0$')\n",
    "    plt.plot(sigmas, uncertainties_A, 's-', label=r'$\\Delta A$')\n",
    "    plt.xlabel(r'Measurement Uncertainty ($\\sigma$)')\n",
    "    plt.ylabel('Parameter Uncertainty')\n",
    "    plt.title('Parameter Uncertainty vs. Measurement Uncertainty')\n",
    "    plt.legend()\n",
    "    plt.grid(True)\n",
    "    plt.show()\n",
    "\n",
    "    return uncertainties_H0, uncertainties_A\n",
    "\n",
    "# Example usage of the new function\n",
    "test_sigmas = np.linspace(0.05, 0.001, 20)\n",
    "h0_err, a_err = analyze_uncertainty_vs_sigma(test_sigmas)\n",
    "\n",
    "print(\"----------------------------------------------------------------\")\n",
    "print(\"Results Summary:\")\n",
    "print(f\"For sigma = {test_sigmas[0]:.4f}, ΔH0 = {h0_err[0]:.4f}, ΔA = {a_err[0]:.4f}\")\n",
    "print(f\"For sigma = {test_sigmas[-1]:.4f}, ΔH0 = {h0_err[-1]:.4f}, ΔA = {a_err[-1]:.4f}\")\n",
    "print(\"----------------------------------------------------------------\")"
   ]
  }
 ],
 "metadata": {
  "kernelspec": {
   "display_name": "Python 3 (ipykernel)",
   "language": "python",
   "name": "python3"
  },
  "language_info": {
   "codemirror_mode": {
    "name": "ipython",
    "version": 3
   },
   "file_extension": ".py",
   "mimetype": "text/x-python",
   "name": "python",
   "nbconvert_exporter": "python",
   "pygments_lexer": "ipython3",
   "version": "3.10.12"
  }
 },
 "nbformat": 4,
 "nbformat_minor": 5
}
